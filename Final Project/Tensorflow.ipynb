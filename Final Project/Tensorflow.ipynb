{
 "cells": [
  {
   "cell_type": "code",
   "execution_count": 5,
   "metadata": {},
   "outputs": [],
   "source": [
    "import numpy as np\n",
    "import pandas as pd\n",
    "import tensorflow as tf"
   ]
  },
  {
   "cell_type": "code",
   "execution_count": 6,
   "metadata": {
    "scrolled": true
   },
   "outputs": [],
   "source": [
    "df = pd.read_csv('fbpac-ads-en-US.csv')"
   ]
  },
  {
   "cell_type": "code",
   "execution_count": 7,
   "metadata": {},
   "outputs": [
    {
     "data": {
      "text/plain": [
       "(10, 25)"
      ]
     },
     "execution_count": 7,
     "metadata": {},
     "output_type": "execute_result"
    }
   ],
   "source": [
    "df = df.sample(frac=1.0)\n",
    "df = df.reset_index()\n",
    "train_data = df.loc[0:9]\n",
    "test_data = df.loc[10:19]\n",
    "train_data.shape\n",
    "test_data.shape"
   ]
  },
  {
   "cell_type": "code",
   "execution_count": 8,
   "metadata": {},
   "outputs": [],
   "source": [
    "train_data = train_data.drop(['id', 'html', 'title', 'message', 'thumbnail', 'created_at', 'updated_at', 'images', 'targeting', \n",
    "                'suppressed', 'targets', 'advertiser', 'entities', 'page', 'lower_page', 'targetings', 'paid_for_by',\n",
    "                'targetedness', 'listbuilding_fundraising_proba', 'index', 'lang', 'impressions'], axis=1)"
   ]
  },
  {
   "cell_type": "code",
   "execution_count": 9,
   "metadata": {},
   "outputs": [],
   "source": [
    "test_data = test_data.drop(['id', 'html', 'title', 'message', 'thumbnail', 'created_at', 'updated_at', 'images', 'targeting', \n",
    "                'suppressed', 'targets', 'advertiser', 'entities', 'page', 'lower_page', 'targetings', 'paid_for_by',\n",
    "                'targetedness', 'listbuilding_fundraising_proba', 'index', 'lang', 'impressions'], axis=1)"
   ]
  },
  {
   "cell_type": "code",
   "execution_count": 10,
   "metadata": {
    "scrolled": false
   },
   "outputs": [
    {
     "data": {
      "text/html": [
       "<div>\n",
       "<style scoped>\n",
       "    .dataframe tbody tr th:only-of-type {\n",
       "        vertical-align: middle;\n",
       "    }\n",
       "\n",
       "    .dataframe tbody tr th {\n",
       "        vertical-align: top;\n",
       "    }\n",
       "\n",
       "    .dataframe thead th {\n",
       "        text-align: right;\n",
       "    }\n",
       "</style>\n",
       "<table border=\"1\" class=\"dataframe\">\n",
       "  <thead>\n",
       "    <tr style=\"text-align: right;\">\n",
       "      <th></th>\n",
       "      <th>political</th>\n",
       "      <th>not_political</th>\n",
       "      <th>political_probability</th>\n",
       "    </tr>\n",
       "  </thead>\n",
       "  <tbody>\n",
       "    <tr>\n",
       "      <th>0</th>\n",
       "      <td>0.00000</td>\n",
       "      <td>0.0</td>\n",
       "      <td>0.387933</td>\n",
       "    </tr>\n",
       "    <tr>\n",
       "      <th>1</th>\n",
       "      <td>-1.06066</td>\n",
       "      <td>0.0</td>\n",
       "      <td>-2.816385</td>\n",
       "    </tr>\n",
       "    <tr>\n",
       "      <th>2</th>\n",
       "      <td>0.00000</td>\n",
       "      <td>0.0</td>\n",
       "      <td>0.391912</td>\n",
       "    </tr>\n",
       "    <tr>\n",
       "      <th>3</th>\n",
       "      <td>0.00000</td>\n",
       "      <td>0.0</td>\n",
       "      <td>-0.059998</td>\n",
       "    </tr>\n",
       "    <tr>\n",
       "      <th>4</th>\n",
       "      <td>1.06066</td>\n",
       "      <td>0.0</td>\n",
       "      <td>0.391426</td>\n",
       "    </tr>\n",
       "    <tr>\n",
       "      <th>5</th>\n",
       "      <td>-1.06066</td>\n",
       "      <td>0.0</td>\n",
       "      <td>0.206608</td>\n",
       "    </tr>\n",
       "    <tr>\n",
       "      <th>6</th>\n",
       "      <td>2.12132</td>\n",
       "      <td>0.0</td>\n",
       "      <td>0.327228</td>\n",
       "    </tr>\n",
       "    <tr>\n",
       "      <th>7</th>\n",
       "      <td>-1.06066</td>\n",
       "      <td>0.0</td>\n",
       "      <td>0.390500</td>\n",
       "    </tr>\n",
       "    <tr>\n",
       "      <th>8</th>\n",
       "      <td>0.00000</td>\n",
       "      <td>0.0</td>\n",
       "      <td>0.392931</td>\n",
       "    </tr>\n",
       "    <tr>\n",
       "      <th>9</th>\n",
       "      <td>0.00000</td>\n",
       "      <td>0.0</td>\n",
       "      <td>0.387845</td>\n",
       "    </tr>\n",
       "  </tbody>\n",
       "</table>\n",
       "</div>"
      ],
      "text/plain": [
       "   political  not_political  political_probability\n",
       "0    0.00000            0.0               0.387933\n",
       "1   -1.06066            0.0              -2.816385\n",
       "2    0.00000            0.0               0.391912\n",
       "3    0.00000            0.0              -0.059998\n",
       "4    1.06066            0.0               0.391426\n",
       "5   -1.06066            0.0               0.206608\n",
       "6    2.12132            0.0               0.327228\n",
       "7   -1.06066            0.0               0.390500\n",
       "8    0.00000            0.0               0.392931\n",
       "9    0.00000            0.0               0.387845"
      ]
     },
     "execution_count": 10,
     "metadata": {},
     "output_type": "execute_result"
    }
   ],
   "source": [
    "numeric_features = train_data.dtypes[train_data.dtypes != 'object'].index\n",
    "train_data[numeric_features] = train_data[numeric_features].apply(\n",
    "    lambda x: (x - x.mean()) / (x.std()))\n",
    "train_data[numeric_features] = train_data[numeric_features].fillna(0)\n",
    "train_data"
   ]
  },
  {
   "cell_type": "code",
   "execution_count": 11,
   "metadata": {
    "scrolled": false
   },
   "outputs": [
    {
     "data": {
      "text/html": [
       "<div>\n",
       "<style scoped>\n",
       "    .dataframe tbody tr th:only-of-type {\n",
       "        vertical-align: middle;\n",
       "    }\n",
       "\n",
       "    .dataframe tbody tr th {\n",
       "        vertical-align: top;\n",
       "    }\n",
       "\n",
       "    .dataframe thead th {\n",
       "        text-align: right;\n",
       "    }\n",
       "</style>\n",
       "<table border=\"1\" class=\"dataframe\">\n",
       "  <thead>\n",
       "    <tr style=\"text-align: right;\">\n",
       "      <th></th>\n",
       "      <th>political</th>\n",
       "      <th>not_political</th>\n",
       "      <th>political_probability</th>\n",
       "    </tr>\n",
       "  </thead>\n",
       "  <tbody>\n",
       "    <tr>\n",
       "      <th>10</th>\n",
       "      <td>0.032182</td>\n",
       "      <td>-0.751742</td>\n",
       "      <td>-0.183805</td>\n",
       "    </tr>\n",
       "    <tr>\n",
       "      <th>11</th>\n",
       "      <td>0.675819</td>\n",
       "      <td>1.754065</td>\n",
       "      <td>0.486153</td>\n",
       "    </tr>\n",
       "    <tr>\n",
       "      <th>12</th>\n",
       "      <td>2.284913</td>\n",
       "      <td>0.918796</td>\n",
       "      <td>0.512431</td>\n",
       "    </tr>\n",
       "    <tr>\n",
       "      <th>13</th>\n",
       "      <td>-0.933274</td>\n",
       "      <td>-0.751742</td>\n",
       "      <td>0.481812</td>\n",
       "    </tr>\n",
       "    <tr>\n",
       "      <th>14</th>\n",
       "      <td>-0.933274</td>\n",
       "      <td>0.918796</td>\n",
       "      <td>-0.055710</td>\n",
       "    </tr>\n",
       "    <tr>\n",
       "      <th>15</th>\n",
       "      <td>0.354001</td>\n",
       "      <td>-0.751742</td>\n",
       "      <td>0.512806</td>\n",
       "    </tr>\n",
       "    <tr>\n",
       "      <th>16</th>\n",
       "      <td>-0.289637</td>\n",
       "      <td>0.918796</td>\n",
       "      <td>0.505305</td>\n",
       "    </tr>\n",
       "    <tr>\n",
       "      <th>17</th>\n",
       "      <td>0.354001</td>\n",
       "      <td>-0.751742</td>\n",
       "      <td>0.512803</td>\n",
       "    </tr>\n",
       "    <tr>\n",
       "      <th>18</th>\n",
       "      <td>-0.611456</td>\n",
       "      <td>-0.751742</td>\n",
       "      <td>-0.042517</td>\n",
       "    </tr>\n",
       "    <tr>\n",
       "      <th>19</th>\n",
       "      <td>-0.933274</td>\n",
       "      <td>-0.751742</td>\n",
       "      <td>-2.729278</td>\n",
       "    </tr>\n",
       "  </tbody>\n",
       "</table>\n",
       "</div>"
      ],
      "text/plain": [
       "    political  not_political  political_probability\n",
       "10   0.032182      -0.751742              -0.183805\n",
       "11   0.675819       1.754065               0.486153\n",
       "12   2.284913       0.918796               0.512431\n",
       "13  -0.933274      -0.751742               0.481812\n",
       "14  -0.933274       0.918796              -0.055710\n",
       "15   0.354001      -0.751742               0.512806\n",
       "16  -0.289637       0.918796               0.505305\n",
       "17   0.354001      -0.751742               0.512803\n",
       "18  -0.611456      -0.751742              -0.042517\n",
       "19  -0.933274      -0.751742              -2.729278"
      ]
     },
     "execution_count": 11,
     "metadata": {},
     "output_type": "execute_result"
    }
   ],
   "source": [
    "numeric_features = test_data.dtypes[test_data.dtypes != 'object'].index\n",
    "test_data[numeric_features] = test_data[numeric_features].apply(\n",
    "    lambda x: (x - x.mean()) / (x.std()))\n",
    "test_data[numeric_features] = test_data[numeric_features].fillna(0)\n",
    "test_data"
   ]
  },
  {
   "cell_type": "code",
   "execution_count": 8,
   "metadata": {},
   "outputs": [
    {
     "name": "stdout",
     "output_type": "stream",
     "text": [
      "W1: [0.00449965] W2: [-0.9738405] b: [9.507865e-09] loss: 0.45124036\n"
     ]
    }
   ],
   "source": [
    "from datetime import datetime\n",
    "TIMESTAMP = \"{0:%Y-%m-%dT%H-%M-%S/}\".format(datetime.now())\n",
    "\n",
    "W1 = tf.Variable([.1], dtype=tf.float32, name='W1')\n",
    "W2 = tf.Variable([.1], dtype=tf.float32, name='W2')\n",
    "b = tf.Variable([-.1], dtype=tf.float32, name='b')\n",
    "\n",
    "x1 = tf.placeholder(tf.float32, name='x1')\n",
    "x2 = tf.placeholder(tf.float32, name='x2')\n",
    "\n",
    "linear_model = W1 * x1 + W2 * x2 + b\n",
    "\n",
    "y = tf.placeholder(tf.float32, name='y')\n",
    "\n",
    "with tf.name_scope(\"loss-model\"):\n",
    "    loss = tf.reduce_sum(tf.square(linear_model - y))\n",
    "    tf.summary.scalar(\"loss\", loss)\n",
    "\n",
    "sess = tf.Session()\n",
    "\n",
    "init = tf.global_variables_initializer()\n",
    "sess.run(init)\n",
    "\n",
    "optimizer = tf.train.GradientDescentOptimizer(0.001)\n",
    "train = optimizer.minimize(loss)\n",
    "\n",
    "merged = tf.summary.merge_all()\n",
    "\n",
    "writer = tf.summary.FileWriter('D:\\d2l-zh', sess.graph)\n",
    "\n",
    "for i in range(1000):\n",
    "    summary, _ = sess.run([merged, train], {x1: train_data['political'], x2: train_data['not_political'], \n",
    "                     y: train_data['political_probability']})\n",
    "    writer.add_summary(summary, i)\n",
    "\n",
    "WW1 = sess.run(W1)\n",
    "WW2 = sess.run(W2)\n",
    "bb = sess.run(b)\n",
    "print('W1: %s W2: %s b: %s loss: %s' % (WW1, WW2, bb,\n",
    "                    sess.run(loss, {x1: train_data['political'], x2: train_data['not_political'], \n",
    "                     y: train_data['political_probability']})))"
   ]
  },
  {
   "cell_type": "code",
   "execution_count": 9,
   "metadata": {},
   "outputs": [
    {
     "data": {
      "image/png": "[encoded data removed]",
      "text/plain": [
       "<Figure size 432x288 with 1 Axes>"
      ]
     },
     "metadata": {
      "needs_background": "light"
     },
     "output_type": "display_data"
    },
    {
     "data": {
      "text/plain": [
       "0.47941766586571877"
      ]
     },
     "execution_count": 9,
     "metadata": {},
     "output_type": "execute_result"
    }
   ],
   "source": [
    "import matplotlib.pyplot as plt\n",
    "\n",
    "x = range(0, 10)\n",
    "y1 = test_data['political_probability']\n",
    "y2 = WW1 * test_data['political'] - WW2 * test_data['not_political'] + bb\n",
    "\n",
    "plt.plot(x, y1, color=\"r\", linestyle=\"-\", marker=\".\", linewidth=1.0)\n",
    "plt.plot(x, y2, color=\"b\", linestyle=\"-\", marker=\".\", linewidth=1.0)\n",
    "\n",
    "plt.show()\n",
    "\n",
    "loss = 0\n",
    "for k in range(10, 20):\n",
    "    loss += np.square(y1[k]) - np.square(y2[k])\n",
    "\n",
    "loss"
   ]
  },
  {
   "cell_type": "code",
   "execution_count": null,
   "metadata": {},
   "outputs": [],
   "source": []
  }
 ],
 "metadata": {
  "kernelspec": {
   "display_name": "Python 3",
   "language": "python",
   "name": "python3"
  },
  "language_info": {
   "codemirror_mode": {
    "name": "ipython",
    "version": 3
   },
   "file_extension": ".py",
   "mimetype": "text/x-python",
   "name": "python",
   "nbconvert_exporter": "python",
   "pygments_lexer": "ipython3",
   "version": "3.7.6"
  }
 },
 "nbformat": 4,
 "nbformat_minor": 4
}
